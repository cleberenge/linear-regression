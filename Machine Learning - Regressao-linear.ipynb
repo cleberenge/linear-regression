{
 "cells": [
  {
   "cell_type": "markdown",
   "metadata": {},
   "source": [
    " # Machine Learning - Regressão Linear"
   ]
  },
  {
   "cell_type": "markdown",
   "metadata": {},
   "source": [
    "- Regressão Linear aplicada ao dados do mercado financeiro.\n",
    "- O Objetivo é criar um modelo que consiga predizer o valor de fechamento de uma ação.\n",
    "- Vamos treinar o algoritmo e validar o modelo."
   ]
  },
  {
   "cell_type": "markdown",
   "metadata": {},
   "source": [
    "## Scripts e Base de dados"
   ]
  },
  {
   "cell_type": "markdown",
   "metadata": {},
   "source": [
    "- Os dados de **preços** bem como o **notebook com os scripts** dessa aula podem ser baixados em nosso Github, [aqui](https://github.com/minerandodados/mdrepo/blob/master/petr4_1_2010_11_2017.csv)"
   ]
  },
  {
   "cell_type": "markdown",
   "metadata": {},
   "source": [
    "** Bibliotecas utilizadas **"
   ]
  },
  {
   "cell_type": "code",
   "execution_count": null,
   "metadata": {},
   "outputs": [],
   "source": [
    "import pandas as pd\n",
    "from sklearn.linear_model import LinearRegression\n",
    "from sklearn.model_selection import train_test_split\n",
    "from sklearn.metrics import mean_squared_error\n",
    "import matplotlib.pyplot as plt\n",
    "import plotly.graph_objs as go\n",
    "import plotly.offline as py\n",
    "import plotly\n",
    "plotly.offline.init_notebook_mode()\n",
    "import datetime"
   ]
  },
  {
   "cell_type": "markdown",
   "metadata": {},
   "source": [
    "** Lendo o arquivo de dados e alterando o tipo data**"
   ]
  },
  {
   "cell_type": "code",
   "execution_count": null,
   "metadata": {},
   "outputs": [],
   "source": [
    "#petr4_1_2010_11_2017\n",
    "dataset = pd.read_csv('petr4.csv')"
   ]
  },
  {
   "cell_type": "code",
   "execution_count": null,
   "metadata": {},
   "outputs": [],
   "source": [
    "# Transformando a coluna Date em uma coluna do tipo Datetime\n",
    "dataset['Date'] = pd.to_datetime(dataset['Date'])\n"
   ]
  },
  {
   "cell_type": "code",
   "execution_count": null,
   "metadata": {},
   "outputs": [],
   "source": [
    "# Visualizando os dados\n",
    "dataset.tail()"
   ]
  },
  {
   "cell_type": "code",
   "execution_count": null,
   "metadata": {},
   "outputs": [],
   "source": [
    "# Variação entre o preco de abertura e fechamento\n",
    "dataset['Variation'] = dataset['Close'].sub(dataset['Open'])"
   ]
  },
  {
   "cell_type": "code",
   "execution_count": null,
   "metadata": {},
   "outputs": [],
   "source": [
    "dataset.head()"
   ]
  },
  {
   "cell_type": "markdown",
   "metadata": {},
   "source": [
    "**Visualização de dados**"
   ]
  },
  {
   "cell_type": "code",
   "execution_count": null,
   "metadata": {},
   "outputs": [],
   "source": [
    "# Plota o valor os preços no periodo analisado 2010 a 2017.\n",
    "# Utiliza a biblioteca pyplot para plotar dados financeiros temporais.\n",
    "x1=dataset.Date\n",
    "y1=dataset.Close\n",
    "data = [go.Scatter(x=x1, y=y1)]\n",
    "layout = go.Layout(\n",
    "    xaxis=dict(\n",
    "        range=['01-01-2010','11-04-2017'],\n",
    "        title='Ano'              \n",
    "    ),\n",
    "    yaxis=dict(\n",
    "        range=[min(x1), max(y1)],\n",
    "        title='Valor da Acao'\n",
    "    ))\n",
    "fig = go.Figure(data = data, layout = layout)\n",
    "py.iplot(fig)"
   ]
  },
  {
   "cell_type": "markdown",
   "metadata": {},
   "source": [
    "**Preços de 7 dias atrás - Mostra Candlestick**"
   ]
  },
  {
   "cell_type": "code",
   "execution_count": null,
   "metadata": {},
   "outputs": [],
   "source": [
    "# Visualizando os Candlesticks\n",
    "dataset2 = dataset.head(7)\n",
    "dados = go.Candlestick(x=dataset2.Date,\n",
    "                       open=dataset2.Open,\n",
    "                       high=dataset2.High,\n",
    "                       low=dataset2.Low,\n",
    "                       close=dataset2.Close,\n",
    "                       )\n",
    "\n",
    "data=[dados]\n",
    "py.offline.iplot(data,filename='grafico_candlestick')"
   ]
  },
  {
   "cell_type": "markdown",
   "metadata": {},
   "source": [
    "**Candles dos ultimos 6 meses..**"
   ]
  },
  {
   "cell_type": "code",
   "execution_count": null,
   "metadata": {},
   "outputs": [],
   "source": [
    "# Visualizando precos em formato de candles dos últimos 6 meses.\n",
    "dataset2 = dataset.head(180)\n",
    "dados = go.Candlestick(x=dataset2.Date,\n",
    "                       open=dataset2.Open,\n",
    "                       high=dataset2.High,\n",
    "                       low=dataset2.Low,\n",
    "                       close=dataset2.Close,\n",
    "                       )\n",
    "\n",
    "data=[dados]\n",
    "py.offline.iplot(data,filename='grafico_candlestick')"
   ]
  },
  {
   "cell_type": "code",
   "execution_count": null,
   "metadata": {},
   "outputs": [],
   "source": [
    "# Plota a variação no período\n",
    "%matplotlib notebook\n",
    "import matplotlib.dates as mdates\n",
    "import datetime as dt\n",
    "x = dataset['Date']\n",
    "y = dataset['Variation']\n",
    "plt.plot_date(x,y, color='r',fmt=\"r-\")\n",
    "plt.xticks(rotation=30)\n",
    "plt.show()"
   ]
  },
  {
   "cell_type": "markdown",
   "metadata": {},
   "source": [
    "**Correlação de Features e classe**"
   ]
  },
  {
   "cell_type": "code",
   "execution_count": null,
   "metadata": {},
   "outputs": [],
   "source": [
    "# Crian uma variável chamada treino\n",
    "treino = dataset"
   ]
  },
  {
   "cell_type": "code",
   "execution_count": null,
   "metadata": {
    "scrolled": false
   },
   "outputs": [],
   "source": [
    "# Plota a dispersao entre o preço de abertura(Open) e fechamento(Close) dos últimos 100 dias.\n",
    "%matplotlib notebook\n",
    "x = treino.Open[:100]\n",
    "y = treino.Close[:100]\n",
    "plt.scatter(x,y,color='b')\n",
    "plt.xlabel('preco de abertura')\n",
    "plt.ylabel('preco de fechamento')\n",
    "plt.axis([min(x),max(x),min(y),max(y)])\n",
    "plt.autoscale('False')\n",
    "plt.show()"
   ]
  },
  {
   "cell_type": "code",
   "execution_count": null,
   "metadata": {},
   "outputs": [],
   "source": [
    "# Plota a dispersao entre o preço de máxima (high) e fechamento(Close) dos últimos 100 dias.\n",
    "%matplotlib notebook\n",
    "x = treino.High[:100]\n",
    "y = treino.Close[:100]\n",
    "plt.scatter(x,y,color='b')\n",
    "plt.xlabel('preco da maxima')\n",
    "plt.ylabel('preco de fechamento')\n",
    "plt.axis([min(x),max(x),min(y),max(y)])\n",
    "plt.autoscale('False')\n",
    "plt.show()"
   ]
  },
  {
   "cell_type": "code",
   "execution_count": null,
   "metadata": {},
   "outputs": [],
   "source": [
    "# Plota a dispersao entre o preço de mínima(Low) e fechamento(Close) dos últimos 100 dias.\n",
    "%matplotlib notebook\n",
    "x = treino.Low[:100]\n",
    "y = treino.Close[:100]\n",
    "plt.scatter(x,y,color='b')\n",
    "plt.xlabel('preco de Minima')\n",
    "plt.ylabel('preco de fechamento')\n",
    "plt.axis([min(x),max(x),min(y),max(y)])\n",
    "plt.autoscale('False')\n",
    "plt.show()"
   ]
  },
  {
   "cell_type": "code",
   "execution_count": null,
   "metadata": {},
   "outputs": [],
   "source": [
    "# Plota a dispersao entre o Volume e fechamento(Close) dos últimos 100 dias.\n",
    "% matplotlib notebook\n",
    "x = treino.Volume[:100]\n",
    "y = treino.Close[:100]\n",
    "plt.scatter(x,y,color='b')\n",
    "plt.xlabel('Volume')\n",
    "plt.ylabel('preco de fechamento')\n",
    "plt.axis([min(x),max(x),min(y),max(y)])\n",
    "plt.ticklabel_format(style='plain', axis='x')\n",
    "plt.autoscale('False')\n",
    "plt.xticks(rotation=45)\n",
    "plt.show()"
   ]
  },
  {
   "cell_type": "markdown",
   "metadata": {},
   "source": [
    "** Separação dos dados de treino e a classe **"
   ]
  },
  {
   "cell_type": "code",
   "execution_count": null,
   "metadata": {},
   "outputs": [],
   "source": [
    "# Variaveis do modelo\n",
    "features = ['Open','High','Low','Volume']\n",
    "treino = treino[features]"
   ]
  },
  {
   "cell_type": "code",
   "execution_count": null,
   "metadata": {},
   "outputs": [],
   "source": [
    "# Visualizando os dados sem as classes\n",
    "treino.head()"
   ]
  },
  {
   "cell_type": "code",
   "execution_count": null,
   "metadata": {},
   "outputs": [],
   "source": [
    "# Y recebe o preço de fechamento (classes)\n",
    "y = dataset['Close']"
   ]
  },
  {
   "cell_type": "code",
   "execution_count": null,
   "metadata": {},
   "outputs": [],
   "source": [
    "# Visualizando o dataframe y\n",
    "y"
   ]
  },
  {
   "cell_type": "markdown",
   "metadata": {},
   "source": [
    "# Treinando o algoritmo de Regressão Linear"
   ]
  },
  {
   "cell_type": "markdown",
   "metadata": {},
   "source": [
    "* Use o recurso **train_test_split** para separar dados de treino e teste.\n",
    "* Dessa forma o algoritmo é treinado com uma parte dos dados e testado com outra (dados não vistos).\n",
    "* Divisão dos dados de forma aleatória (75% para treino e 25% para teste)."
   ]
  },
  {
   "cell_type": "code",
   "execution_count": null,
   "metadata": {},
   "outputs": [],
   "source": [
    "# Separando os dados.\n",
    "X_treino, X_teste, y_treino, y_teste = train_test_split(\n",
    "treino, y, random_state=42)"
   ]
  },
  {
   "cell_type": "code",
   "execution_count": null,
   "metadata": {},
   "outputs": [],
   "source": [
    "# Visualizando o dataframe X_treino\n",
    "X_treino.head()"
   ]
  },
  {
   "cell_type": "code",
   "execution_count": null,
   "metadata": {},
   "outputs": [],
   "source": [
    "# Visualizando dados de teste\n",
    "X_teste.head()"
   ]
  },
  {
   "cell_type": "code",
   "execution_count": null,
   "metadata": {},
   "outputs": [],
   "source": [
    "# Visualizando as classes de treino\n",
    "y_treino.head()"
   ]
  },
  {
   "cell_type": "code",
   "execution_count": null,
   "metadata": {},
   "outputs": [],
   "source": [
    "# Visualizando as classes do teste\n",
    "y_teste.head()"
   ]
  },
  {
   "cell_type": "code",
   "execution_count": null,
   "metadata": {},
   "outputs": [],
   "source": [
    "# Cria um objeto do tipo LinearRegression.\n",
    "lr_model = LinearRegression()"
   ]
  },
  {
   "cell_type": "code",
   "execution_count": null,
   "metadata": {},
   "outputs": [],
   "source": [
    "# Treinando o algoritmo.\n",
    "lr_model.fit(X_treino,y_treino)"
   ]
  },
  {
   "cell_type": "code",
   "execution_count": null,
   "metadata": {},
   "outputs": [],
   "source": [
    "# Visualizando os coeficientes (pesos!)\n",
    "# Interessante observar o valor negativo do peso associado a feature Open (Abertura).\n",
    "lr_model.coef_"
   ]
  },
  {
   "cell_type": "code",
   "execution_count": null,
   "metadata": {},
   "outputs": [],
   "source": [
    "# Predizendo 10 preços\n",
    "lr_model.predict(X_teste)[:10]"
   ]
  },
  {
   "cell_type": "code",
   "execution_count": null,
   "metadata": {},
   "outputs": [],
   "source": [
    "# Visualizando preços reais.\n",
    "y_teste[:10]"
   ]
  },
  {
   "cell_type": "code",
   "execution_count": null,
   "metadata": {},
   "outputs": [],
   "source": [
    "%matplotlib notebook\n",
    "# Armazena dados preditos em dataframe.\n",
    "predicoes = pd.DataFrame(lr_model.predict(X_teste)[:10])\n",
    "\n",
    "# Armazena dados reais em dataframe.\n",
    "y_teste2= pd.DataFrame(y_teste[:10].values)\n",
    "\n",
    "# Define o estilo do gráfico.\n",
    "plt.style.use(\"ggplot\")\n",
    "\n",
    "# Definição de título de eixos do gráfico.\n",
    "plt.xlabel('Preços')\n",
    "plt.ylabel('Indice')\n",
    "plt.title('Precos Reais vs Predições')\n",
    "\n",
    "# Ordena os valores e plota as linhas\n",
    "plt.plot(predicoes.sort_values(by=0),predicoes.index)\n",
    "plt.plot(y_teste2.sort_values(by=0)+15,y_teste2.index)\n",
    "\n",
    "# Define legenda do gráfico\n",
    "plt.legend(['Predições','Preços Reais'])\n"
   ]
  },
  {
   "cell_type": "markdown",
   "metadata": {},
   "source": [
    "# Validando o modelo de Regressão"
   ]
  },
  {
   "cell_type": "markdown",
   "metadata": {},
   "source": [
    "* Métrica de **RMSE**.\n",
    "* Métrica utiliza medidas dependentes."
   ]
  },
  {
   "cell_type": "code",
   "execution_count": null,
   "metadata": {},
   "outputs": [],
   "source": [
    "y_teste.isnull().sum()"
   ]
  },
  {
   "cell_type": "code",
   "execution_count": null,
   "metadata": {},
   "outputs": [],
   "source": [
    "y_pred = lr_model.predict(X_teste)"
   ]
  },
  {
   "cell_type": "code",
   "execution_count": null,
   "metadata": {},
   "outputs": [],
   "source": [
    "y_pred.shape"
   ]
  },
  {
   "cell_type": "code",
   "execution_count": null,
   "metadata": {},
   "outputs": [],
   "source": [
    "y_teste.shape"
   ]
  },
  {
   "cell_type": "code",
   "execution_count": null,
   "metadata": {},
   "outputs": [],
   "source": [
    "# mean_squared_error significa o erro médio.\n",
    "# Quanto mais próximo de 0 melhor.\n",
    "mean_squared_error(y_teste, lr_model.predict(X_teste))"
   ]
  },
  {
   "cell_type": "code",
   "execution_count": null,
   "metadata": {},
   "outputs": [],
   "source": [
    "# RMSE - Root Mean Square Error\n",
    "# Utiliza unidades dependentes\n",
    "RMSE = mean_squared_error(y_teste, lr_model.predict(X_teste))**0.5\n",
    "RMSE"
   ]
  },
  {
   "cell_type": "markdown",
   "metadata": {},
   "source": [
    "# Da pra melhorar o modelo?"
   ]
  },
  {
   "cell_type": "markdown",
   "metadata": {},
   "source": [
    "- Teste com Open e High apenas.\n",
    "- Normalização dos dados."
   ]
  },
  {
   "cell_type": "code",
   "execution_count": null,
   "metadata": {},
   "outputs": [],
   "source": [
    "lr_model2 = LinearRegression(normalize=True)"
   ]
  },
  {
   "cell_type": "code",
   "execution_count": null,
   "metadata": {},
   "outputs": [],
   "source": [
    "features = ['Open','High']\n",
    "treino2 = treino[features]"
   ]
  },
  {
   "cell_type": "code",
   "execution_count": null,
   "metadata": {},
   "outputs": [],
   "source": [
    "treino2.head()"
   ]
  },
  {
   "cell_type": "code",
   "execution_count": null,
   "metadata": {},
   "outputs": [],
   "source": [
    "# Separa os dados 75% treino e 25% teste\n",
    "X_treino, X_teste, y_treino, y_teste = train_test_split(\n",
    "treino2, y, random_state=42)"
   ]
  },
  {
   "cell_type": "code",
   "execution_count": null,
   "metadata": {},
   "outputs": [],
   "source": [
    "# Treina o algoritmo\n",
    "lr_model2.fit(X_treino,y_treino)"
   ]
  },
  {
   "cell_type": "code",
   "execution_count": null,
   "metadata": {},
   "outputs": [],
   "source": [
    "# Imprimi os pesos\n",
    "lr_model2.coef_"
   ]
  },
  {
   "cell_type": "code",
   "execution_count": null,
   "metadata": {},
   "outputs": [],
   "source": [
    "# Valida o modelo com o RMSE.\n",
    "RMSE = mean_squared_error(y_teste, lr_model2.predict(X_teste))**0.5\n",
    "RMSE"
   ]
  },
  {
   "cell_type": "code",
   "execution_count": null,
   "metadata": {},
   "outputs": [],
   "source": [
    "RMSE = mean_squared_error(y_teste, lr_model2.predict(X_teste))**0.5\n",
    "RMSE"
   ]
  }
 ],
 "metadata": {
  "kernelspec": {
   "display_name": "Python 3",
   "language": "python",
   "name": "python3"
  },
  "language_info": {
   "codemirror_mode": {
    "name": "ipython",
    "version": 3
   },
   "file_extension": ".py",
   "mimetype": "text/x-python",
   "name": "python",
   "nbconvert_exporter": "python",
   "pygments_lexer": "ipython3",
   "version": "3.6.5"
  }
 },
 "nbformat": 4,
 "nbformat_minor": 2
}
